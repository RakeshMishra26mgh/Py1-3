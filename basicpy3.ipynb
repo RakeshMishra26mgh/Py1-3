{
  "nbformat": 4,
  "nbformat_minor": 0,
  "metadata": {
    "colab": {
      "provenance": [],
      "authorship_tag": "ABX9TyOg/Ci2RvAngQ38duCa0jdp",
      "include_colab_link": true
    },
    "kernelspec": {
      "name": "python3",
      "display_name": "Python 3"
    },
    "language_info": {
      "name": "python"
    }
  },
  "cells": [
    {
      "cell_type": "markdown",
      "metadata": {
        "id": "view-in-github",
        "colab_type": "text"
      },
      "source": [
        "<a href=\"https://colab.research.google.com/github/RakeshMishra26mgh/Py1-3/blob/main/basicpy3.ipynb\" target=\"_parent\"><img src=\"https://colab.research.google.com/assets/colab-badge.svg\" alt=\"Open In Colab\"/></a>"
      ]
    },
    {
      "cell_type": "markdown",
      "source": [
        "Answer 1:-"
      ],
      "metadata": {
        "id": "xT-sorebl3ju"
      }
    },
    {
      "cell_type": "code",
      "source": [
        "Number =int(input(\"enter a number:\"))\n",
        "if (Number>0):\n",
        "  print(\"the given number is positive\")\n",
        "elif (Number<0):\n",
        "  print(\" the given number is negative\")\n",
        "else:\n",
        "  print(\"you have entered 0 \")    "
      ],
      "metadata": {
        "id": "G9Y3PEVpl6iO"
      },
      "execution_count": null,
      "outputs": []
    },
    {
      "cell_type": "markdown",
      "source": [
        "Answer 2:-"
      ],
      "metadata": {
        "id": "9ul4CI74no_3"
      }
    },
    {
      "cell_type": "code",
      "source": [
        "Number=int(input(\"enter a number:\"))\n",
        "if Number==0:\n",
        "  print(\"you have entered 0\")\n",
        "elif (Number%2)!=0:\n",
        "  print(\"the number is odd\")\n",
        "else:\n",
        "  print(\"the number is even\")    "
      ],
      "metadata": {
        "id": "Roy1KiPvnrRH"
      },
      "execution_count": null,
      "outputs": []
    },
    {
      "cell_type": "markdown",
      "source": [
        "Answer 3:-"
      ],
      "metadata": {
        "id": "sgesedH6pjrv"
      }
    },
    {
      "cell_type": "code",
      "source": [
        "year=int(input(\"enter a year in yyyy format :\"))\n",
        "if year==0:\n",
        "  print(\"you have entered 0\") \n",
        "elif (year%4)!=0:\n",
        "  print(\"the given year is not a leap year\")\n",
        "else:\n",
        "  if (year%400)==0:\n",
        "    print(\" the given year is a leap century\")\n",
        "  else:\n",
        "    print(\" the given year is not a leap century but is a leap year\")\n"
      ],
      "metadata": {
        "id": "Y77-d_NmpuE9"
      },
      "execution_count": null,
      "outputs": []
    },
    {
      "cell_type": "markdown",
      "source": [
        "Answer 4:-"
      ],
      "metadata": {
        "id": "zuZGaPxXszOc"
      }
    },
    {
      "cell_type": "code",
      "source": [
        "Num=int(input(\"enter a number:\"))\n",
        "for i in range(2,Num):\n",
        "  if (Num%i)==0:\n",
        "    print(\"the given number is not a prime number\")\n",
        "    break\n",
        "else:\n",
        "  print(\"the given number is a prime number\")    "
      ],
      "metadata": {
        "id": "pMqnMipzyn1F"
      },
      "execution_count": null,
      "outputs": []
    },
    {
      "cell_type": "markdown",
      "source": [
        "Answer 5 :-"
      ],
      "metadata": {
        "id": "Hx1RwjB3z2e6"
      }
    },
    {
      "cell_type": "code",
      "source": [
        "\n",
        "for i in range(1,(10000+1)):\n",
        "  flag=0\n",
        "  if i>1:\n",
        "    for j in range(2,i):\n",
        "      if(i%j)==0:\n",
        "        flag=1\n",
        "        break\n",
        "    if flag==0:\n",
        "      print(i,end=\" \")   \n",
        "  \n",
        "    "
      ],
      "metadata": {
        "id": "8SDvPQ_g_crk"
      },
      "execution_count": null,
      "outputs": []
    }
  ]
}